{
  "nbformat": 4,
  "nbformat_minor": 0,
  "metadata": {
    "colab": {
      "provenance": []
    },
    "kernelspec": {
      "name": "python3",
      "display_name": "Python 3"
    },
    "language_info": {
      "name": "python"
    }
  },
  "cells": [
    {
      "cell_type": "code",
      "execution_count": 13,
      "metadata": {
        "colab": {
          "base_uri": "https://localhost:8080/"
        },
        "id": "KwVHcv0D72od",
        "outputId": "c68002e6-c8a7-42f1-cf81-05526fe1a452"
      },
      "outputs": [
        {
          "output_type": "stream",
          "name": "stdout",
          "text": [
            "Enter the amount: 154101510.15\n",
            "Formated amount:  15,41,01,510.15\n"
          ]
        }
      ],
      "source": [
        "number=(input(\"Enter the amount: \"))\n",
        "#number=str(number)\n",
        "if '.' in number:\n",
        "  whole_num,decimal_num=number.split(\".\")\n",
        "else:\n",
        "  whole_num,decimal_num=number,\"\"\n",
        "\n",
        "format=whole_num[-3:]\n",
        "whole_num=whole_num[:-3]\n",
        "\n",
        "while (len(whole_num)>0):\n",
        "  format=whole_num[-2:]+\",\"+format\n",
        "  whole_num=whole_num[:-2]\n",
        "\n",
        "if decimal_num:\n",
        "  format=format+\".\"+decimal_num\n",
        "\n",
        "print(\"Formated amount: \",format)"
      ]
    }
  ]
}
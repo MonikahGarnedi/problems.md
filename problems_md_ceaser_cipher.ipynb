{
  "nbformat": 4,
  "nbformat_minor": 0,
  "metadata": {
    "colab": {
      "provenance": []
    },
    "kernelspec": {
      "name": "python3",
      "display_name": "Python 3"
    },
    "language_info": {
      "name": "python"
    }
  },
  "cells": [
    {
      "cell_type": "code",
      "execution_count": 8,
      "metadata": {
        "colab": {
          "base_uri": "https://localhost:8080/"
        },
        "id": "KwVHcv0D72od",
        "outputId": "0a1b9bbe-c4a3-4fe9-f297-e3b900c70c78"
      },
      "outputs": [
        {
          "output_type": "stream",
          "name": "stdout",
          "text": [
            "Enter the sentence: hello\n",
            "Enter the shift: 5\n",
            "Original version:  hello\n",
            "Encoded version:  mjqqt\n",
            "Decoded version:  hello\n"
          ]
        }
      ],
      "source": [
        "def encode(content,shift):\n",
        "  ans=\"\"\n",
        "  for c in content:\n",
        "    if c.isalpha():\n",
        "      if c.isupper():\n",
        "        ans+=chr((ord(c)-65+shift)%26+65)\n",
        "      else:\n",
        "        ans+=chr((ord(c)-97+shift)%26+97)\n",
        "    else:\n",
        "      ans+=c\n",
        "  return ans\n",
        "\n",
        "content=input(\"Enter the sentence: \")\n",
        "shift=int(input(\"Enter the shift: \"))\n",
        "\n",
        "encoded_version=encode(content,shift)\n",
        "decoded_version=encode(encoded_version,-shift)\n",
        "\n",
        "print(\"Original version: \",content)\n",
        "print(\"Encoded version: \",encoded_version)\n",
        "print(\"Decoded version: \",decoded_version)"
      ]
    }
  ]
}
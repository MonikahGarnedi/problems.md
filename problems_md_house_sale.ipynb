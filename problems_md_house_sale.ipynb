{
  "nbformat": 4,
  "nbformat_minor": 0,
  "metadata": {
    "colab": {
      "provenance": []
    },
    "kernelspec": {
      "name": "python3",
      "display_name": "Python 3"
    },
    "language_info": {
      "name": "python"
    }
  },
  "cells": [
    {
      "cell_type": "code",
      "execution_count": 18,
      "metadata": {
        "colab": {
          "base_uri": "https://localhost:8080/"
        },
        "id": "KwVHcv0D72od",
        "outputId": "2e15f4d2-27f6-4a4c-b1bb-8ce453aaf1cd"
      },
      "outputs": [
        {
          "output_type": "stream",
          "name": "stdout",
          "text": [
            "Enter the number of years: 5\n",
            "Enter the years: 20 15 7 2 13\n",
            "Buy in year:  2\n",
            "Sell in year:  5\n",
            "Loss:  2\n"
          ]
        }
      ],
      "source": [
        "years=int(input(\"Enter the number of years: \"))\n",
        "years_list=list(map(int,input(\"Enter the years: \").split()))\n",
        "\n",
        "buy=0\n",
        "sell=0\n",
        "min_loss=9999999\n",
        "\n",
        "for i in range(0,years):\n",
        "  for j in range(i+1,years):\n",
        "    loss=years_list[i]-years_list[j]\n",
        "    if loss >0 and loss<min_loss:\n",
        "      min_loss=loss\n",
        "      buy=i+1\n",
        "      sell=j+1\n",
        "print(\"Buy in year: \",buy)\n",
        "print(\"Sell in year: \",sell)\n",
        "print(\"Loss: \",min_loss)\n"
      ]
    }
  ]
}